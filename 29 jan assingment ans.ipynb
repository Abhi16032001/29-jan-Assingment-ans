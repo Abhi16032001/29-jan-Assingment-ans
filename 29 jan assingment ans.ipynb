{
 "cells": [
  {
   "cell_type": "code",
   "execution_count": null,
   "id": "39c4b0e1-6a2d-41c6-9e8a-2f40cf0a9ca3",
   "metadata": {},
   "outputs": [],
   "source": [
    "1-Guido van Rossum"
   ]
  },
  {
   "cell_type": "code",
   "execution_count": null,
   "id": "a5eb3cb6-681c-4769-b974-4b6b423b6692",
   "metadata": {},
   "outputs": [],
   "source": [
    "2-Object-oriented programming and structured programming"
   ]
  },
  {
   "cell_type": "code",
   "execution_count": null,
   "id": "6df197af-ce57-4ae7-b481-1c611b57b12e",
   "metadata": {},
   "outputs": [],
   "source": [
    "3-Yes,It is a case-sensitive language,"
   ]
  },
  {
   "cell_type": "code",
   "execution_count": null,
   "id": "0252acf9-1362-4d29-add0-5d3d14625855",
   "metadata": {},
   "outputs": [],
   "source": [
    "4-.py"
   ]
  },
  {
   "cell_type": "code",
   "execution_count": null,
   "id": "77711d19-bd03-4781-9fa6-e904148e1b01",
   "metadata": {},
   "outputs": [],
   "source": [
    "5-Python is an interpreted language"
   ]
  },
  {
   "cell_type": "code",
   "execution_count": null,
   "id": "c2ac4680-7489-4e28-ba8e-6aff9b67df53",
   "metadata": {},
   "outputs": [],
   "source": [
    "6-The following are blocks: a module, a function body, and a class definition"
   ]
  },
  {
   "cell_type": "code",
   "execution_count": null,
   "id": "9cf5ce04-1e46-4649-99ec-c0018055ddce",
   "metadata": {},
   "outputs": [],
   "source": [
    "7-we use the hash symbol # to write a single-line comment."
   ]
  },
  {
   "cell_type": "code",
   "execution_count": null,
   "id": "c94a2200-4566-41f8-8d27-477416ad1729",
   "metadata": {},
   "outputs": [],
   "source": [
    "8-The function sys. version can help us"
   ]
  },
  {
   "cell_type": "code",
   "execution_count": null,
   "id": "6e0c13ec-c072-4968-a266-e23412765122",
   "metadata": {},
   "outputs": [],
   "source": [
    "9-It uses a construct called \"lambda\" ."
   ]
  },
  {
   "cell_type": "code",
   "execution_count": null,
   "id": "ea7cb503-f400-461f-81da-410b624fad36",
   "metadata": {},
   "outputs": [],
   "source": [
    "10- \"preferred installer program\""
   ]
  },
  {
   "cell_type": "code",
   "execution_count": null,
   "id": "b9b5f5db-b0ca-4531-bbcd-1211deea544e",
   "metadata": {},
   "outputs": [],
   "source": [
    "11-print( ) function.\n",
    "type( ) function.\n",
    "input( ) function."
   ]
  },
  {
   "cell_type": "code",
   "execution_count": null,
   "id": "5207bfc8-c78e-4003-9620-b543a6d58499",
   "metadata": {},
   "outputs": [],
   "source": [
    "12-79 character"
   ]
  },
  {
   "cell_type": "code",
   "execution_count": null,
   "id": "260999b0-e988-416d-a53d-c828f8697ed4",
   "metadata": {},
   "outputs": [],
   "source": [
    "13-Productivity has Increased. ...\n",
    "Interpreted Language. ...\n",
    "Extensive library. ...\n",
    "Dynamically Typed. ...\n",
    "Portability. ..."
   ]
  },
  {
   "cell_type": "code",
   "execution_count": null,
   "id": "91388bc1-203e-4792-ac7c-8953aff472a1",
   "metadata": {},
   "outputs": [],
   "source": [
    "14-Memory in Python is managed by Python private heap space"
   ]
  },
  {
   "cell_type": "code",
   "execution_count": null,
   "id": "af3700b0-78bf-4a79-955e-d687ccd63ba5",
   "metadata": {},
   "outputs": [],
   "source": [
    "15-In the section entitled User Variables, double-click on the entry that says Path. Another window will pop up showing a list of paths. Click the New button and paste the path to your Python executable there"
   ]
  },
  {
   "cell_type": "code",
   "execution_count": null,
   "id": "7001e9b1-b09d-4fbd-bbf4-7ce090fa5948",
   "metadata": {},
   "outputs": [],
   "source": [
    "16-"
   ]
  }
 ],
 "metadata": {
  "kernelspec": {
   "display_name": "Python 3 (ipykernel)",
   "language": "python",
   "name": "python3"
  },
  "language_info": {
   "codemirror_mode": {
    "name": "ipython",
    "version": 3
   },
   "file_extension": ".py",
   "mimetype": "text/x-python",
   "name": "python",
   "nbconvert_exporter": "python",
   "pygments_lexer": "ipython3",
   "version": "3.10.8"
  }
 },
 "nbformat": 4,
 "nbformat_minor": 5
}
